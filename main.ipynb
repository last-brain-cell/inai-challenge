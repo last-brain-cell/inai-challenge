{
 "cells": [
  {
   "cell_type": "markdown",
   "source": [
    "## Importing Dependencies"
   ],
   "metadata": {
    "collapsed": false
   }
  },
  {
   "cell_type": "code",
   "execution_count": 14,
   "outputs": [],
   "source": [
    "import pandas as pd\n",
    "import numpy as np\n",
    "import matplotlib.pyplot as plt\n",
    "import seaborn as sns"
   ],
   "metadata": {
    "collapsed": false
   }
  },
  {
   "cell_type": "markdown",
   "source": [
    "## Loading the Dataset"
   ],
   "metadata": {
    "collapsed": false
   }
  },
  {
   "cell_type": "code",
   "execution_count": 3,
   "outputs": [],
   "source": [
    "cas_df = pd.read_csv(\"INAI-Challenge-Dataset/iraste_nxt_cas.csv\")\n",
    "casdms_df = pd.read_csv(\"INAI-Challenge-Dataset/iraste_nxt_casdms.csv\")"
   ],
   "metadata": {
    "collapsed": false,
    "ExecuteTime": {
     "start_time": "2023-08-31T17:32:32.941133Z",
     "end_time": "2023-08-31T17:32:33.878343Z"
    }
   }
  },
  {
   "cell_type": "code",
   "execution_count": 12,
   "outputs": [
    {
     "data": {
      "text/plain": "     Alert        Date      Time        Lat       Long  Vehicle  Speed\n0  cas_ldw  2022-05-01  00:00:06  14.196872  77.631213   3829.0     58\n1  cas_ldw  2022-05-01  00:00:07  16.511887  80.746034   8111.0     56\n2  cas_ldw  2022-05-01  00:00:11  17.908537  78.464064   1153.0     74\n3  cas_ldw  2022-05-01  00:00:11  13.152203  77.620431   7103.0     72\n4  cas_ldw  2022-05-01  00:00:15  16.512134  80.748452   8111.0     57",
      "text/html": "<div>\n<style scoped>\n    .dataframe tbody tr th:only-of-type {\n        vertical-align: middle;\n    }\n\n    .dataframe tbody tr th {\n        vertical-align: top;\n    }\n\n    .dataframe thead th {\n        text-align: right;\n    }\n</style>\n<table border=\"1\" class=\"dataframe\">\n  <thead>\n    <tr style=\"text-align: right;\">\n      <th></th>\n      <th>Alert</th>\n      <th>Date</th>\n      <th>Time</th>\n      <th>Lat</th>\n      <th>Long</th>\n      <th>Vehicle</th>\n      <th>Speed</th>\n    </tr>\n  </thead>\n  <tbody>\n    <tr>\n      <th>0</th>\n      <td>cas_ldw</td>\n      <td>2022-05-01</td>\n      <td>00:00:06</td>\n      <td>14.196872</td>\n      <td>77.631213</td>\n      <td>3829.0</td>\n      <td>58</td>\n    </tr>\n    <tr>\n      <th>1</th>\n      <td>cas_ldw</td>\n      <td>2022-05-01</td>\n      <td>00:00:07</td>\n      <td>16.511887</td>\n      <td>80.746034</td>\n      <td>8111.0</td>\n      <td>56</td>\n    </tr>\n    <tr>\n      <th>2</th>\n      <td>cas_ldw</td>\n      <td>2022-05-01</td>\n      <td>00:00:11</td>\n      <td>17.908537</td>\n      <td>78.464064</td>\n      <td>1153.0</td>\n      <td>74</td>\n    </tr>\n    <tr>\n      <th>3</th>\n      <td>cas_ldw</td>\n      <td>2022-05-01</td>\n      <td>00:00:11</td>\n      <td>13.152203</td>\n      <td>77.620431</td>\n      <td>7103.0</td>\n      <td>72</td>\n    </tr>\n    <tr>\n      <th>4</th>\n      <td>cas_ldw</td>\n      <td>2022-05-01</td>\n      <td>00:00:15</td>\n      <td>16.512134</td>\n      <td>80.748452</td>\n      <td>8111.0</td>\n      <td>57</td>\n    </tr>\n  </tbody>\n</table>\n</div>"
     },
     "execution_count": 12,
     "metadata": {},
     "output_type": "execute_result"
    }
   ],
   "source": [
    "cas_df.head()"
   ],
   "metadata": {
    "collapsed": false,
    "ExecuteTime": {
     "start_time": "2023-08-31T17:34:38.107509Z",
     "end_time": "2023-08-31T17:34:38.117534Z"
    }
   }
  },
  {
   "cell_type": "code",
   "execution_count": 13,
   "outputs": [
    {
     "data": {
      "text/plain": "     Alert        Date      Time        Lat       Long  Vehicle  Speed\n0  cas_hmw  2022-05-01  00:00:29  17.158688  79.306623     3867     55\n1  cas_ldw  2022-05-01  00:00:52  17.158928  79.309335     3867     60\n2  cas_ldw  2022-05-01  00:01:03  17.159078  79.310747     3867     67\n3  cas_ldw  2022-05-01  00:01:16  17.159457  79.314245     3867     73\n4  cas_ldw  2022-05-01  00:01:27  16.814285  80.246173     6123     61",
      "text/html": "<div>\n<style scoped>\n    .dataframe tbody tr th:only-of-type {\n        vertical-align: middle;\n    }\n\n    .dataframe tbody tr th {\n        vertical-align: top;\n    }\n\n    .dataframe thead th {\n        text-align: right;\n    }\n</style>\n<table border=\"1\" class=\"dataframe\">\n  <thead>\n    <tr style=\"text-align: right;\">\n      <th></th>\n      <th>Alert</th>\n      <th>Date</th>\n      <th>Time</th>\n      <th>Lat</th>\n      <th>Long</th>\n      <th>Vehicle</th>\n      <th>Speed</th>\n    </tr>\n  </thead>\n  <tbody>\n    <tr>\n      <th>0</th>\n      <td>cas_hmw</td>\n      <td>2022-05-01</td>\n      <td>00:00:29</td>\n      <td>17.158688</td>\n      <td>79.306623</td>\n      <td>3867</td>\n      <td>55</td>\n    </tr>\n    <tr>\n      <th>1</th>\n      <td>cas_ldw</td>\n      <td>2022-05-01</td>\n      <td>00:00:52</td>\n      <td>17.158928</td>\n      <td>79.309335</td>\n      <td>3867</td>\n      <td>60</td>\n    </tr>\n    <tr>\n      <th>2</th>\n      <td>cas_ldw</td>\n      <td>2022-05-01</td>\n      <td>00:01:03</td>\n      <td>17.159078</td>\n      <td>79.310747</td>\n      <td>3867</td>\n      <td>67</td>\n    </tr>\n    <tr>\n      <th>3</th>\n      <td>cas_ldw</td>\n      <td>2022-05-01</td>\n      <td>00:01:16</td>\n      <td>17.159457</td>\n      <td>79.314245</td>\n      <td>3867</td>\n      <td>73</td>\n    </tr>\n    <tr>\n      <th>4</th>\n      <td>cas_ldw</td>\n      <td>2022-05-01</td>\n      <td>00:01:27</td>\n      <td>16.814285</td>\n      <td>80.246173</td>\n      <td>6123</td>\n      <td>61</td>\n    </tr>\n  </tbody>\n</table>\n</div>"
     },
     "execution_count": 13,
     "metadata": {},
     "output_type": "execute_result"
    }
   ],
   "source": [
    "casdms_df.head()"
   ],
   "metadata": {
    "collapsed": false,
    "ExecuteTime": {
     "start_time": "2023-08-31T17:34:38.384514Z",
     "end_time": "2023-08-31T17:34:38.387866Z"
    }
   }
  },
  {
   "cell_type": "code",
   "execution_count": 28,
   "outputs": [],
   "source": [
    "def describe_and_info(df: pd.DataFrame):\n",
    "    print(f\"\\n\\nShape of Data: {df.shape}\")\n",
    "    print(f\"\\n\\nDataTypes: {df.dtypes}\")\n",
    "    print(f\"\\n\\nDataset Description:\\n{df.describe()}\")\n",
    "    print(f\"\\n\\nDataset Info:\\n{df.info()}\")\n",
    "    print(f\"\\n\\nNumber of Unique Values in the Dataset:\\n{df.nunique()}\")"
   ],
   "metadata": {
    "collapsed": false,
    "ExecuteTime": {
     "start_time": "2023-08-31T17:50:38.382597Z",
     "end_time": "2023-08-31T17:50:38.385746Z"
    }
   }
  },
  {
   "cell_type": "code",
   "execution_count": 29,
   "outputs": [
    {
     "name": "stdout",
     "output_type": "stream",
     "text": [
      "Dataset Description:\n",
      "                Lat          Long       Vehicle         Speed\n",
      "count  1.785508e+06  1.785508e+06  1.785509e+06  1.785509e+06\n",
      "mean   1.760528e+01  7.899734e+01  5.536336e+03  5.943645e+01\n",
      "std    2.125467e+00  1.005071e+00  2.866079e+03  2.063253e+01\n",
      "min    1.221056e+01  7.390717e+01  1.140000e+02  0.000000e+00\n",
      "25%    1.662601e+01  7.832018e+01  3.185000e+03  5.000000e+01\n",
      "50%    1.718232e+01  7.906153e+01  6.132000e+03  6.400000e+01\n",
      "75%    1.833605e+01  7.953207e+01  8.113000e+03  7.400000e+01\n",
      "max    2.213794e+01  8.333997e+01  9.887000e+03  1.000000e+02\n",
      "<class 'pandas.core.frame.DataFrame'>\n",
      "RangeIndex: 1785509 entries, 0 to 1785508\n",
      "Data columns (total 7 columns):\n",
      " #   Column   Dtype  \n",
      "---  ------   -----  \n",
      " 0   Alert    object \n",
      " 1   Date     object \n",
      " 2   Time     object \n",
      " 3   Lat      float64\n",
      " 4   Long     float64\n",
      " 5   Vehicle  float64\n",
      " 6   Speed    int64  \n",
      "dtypes: float64(3), int64(1), object(3)\n",
      "memory usage: 95.4+ MB\n",
      "\n",
      "\n",
      "Dataset Info:\n",
      "None\n",
      "\n",
      "\n",
      "Number of Unique Values in the Dataset:\n",
      "Alert            5\n",
      "Date            30\n",
      "Time         86400\n",
      "Lat        1042345\n",
      "Long       1021640\n",
      "Vehicle        313\n",
      "Speed          101\n",
      "dtype: int64\n",
      "\n",
      "\n",
      "Shape of Data: (1785509, 7)\n"
     ]
    }
   ],
   "source": [
    "describe_and_info(cas_df)"
   ],
   "metadata": {
    "collapsed": false,
    "ExecuteTime": {
     "start_time": "2023-08-31T17:50:40.039665Z",
     "end_time": "2023-08-31T17:50:40.691148Z"
    }
   }
  },
  {
   "cell_type": "code",
   "execution_count": 25,
   "outputs": [
    {
     "name": "stdout",
     "output_type": "stream",
     "text": [
      "Dataset Description:\n",
      "                Lat          Long       Vehicle         Speed\n",
      "count  60487.000000  60487.000000  60487.000000  60487.000000\n",
      "mean      17.068180     79.572953   7168.667978     66.157852\n",
      "std        0.235367      0.607719   1305.320076     14.917828\n",
      "min       16.492685     78.234730   3867.000000      0.000000\n",
      "25%       16.916235     79.103022   6123.000000     59.000000\n",
      "50%       17.158827     79.559413   6837.000000     69.000000\n",
      "75%       17.229787     80.100460   8122.000000     76.000000\n",
      "max       17.608050     80.666170   8877.000000    100.000000\n",
      "<class 'pandas.core.frame.DataFrame'>\n",
      "RangeIndex: 60487 entries, 0 to 60486\n",
      "Data columns (total 7 columns):\n",
      " #   Column   Non-Null Count  Dtype  \n",
      "---  ------   --------------  -----  \n",
      " 0   Alert    60487 non-null  object \n",
      " 1   Date     60487 non-null  object \n",
      " 2   Time     60487 non-null  object \n",
      " 3   Lat      60487 non-null  float64\n",
      " 4   Long     60487 non-null  float64\n",
      " 5   Vehicle  60487 non-null  int64  \n",
      " 6   Speed    60487 non-null  int64  \n",
      "dtypes: float64(2), int64(2), object(3)\n",
      "memory usage: 3.2+ MB\n",
      "\n",
      "\n",
      "Dataset Info:\n",
      "None\n",
      "\n",
      "\n",
      "Number of Unique Values in the Dataset:\n",
      "Alert         11\n",
      "Date          30\n",
      "Time       43247\n",
      "Lat        46024\n",
      "Long       54261\n",
      "Vehicle        5\n",
      "Speed         97\n",
      "dtype: int64\n",
      "\n",
      "\n",
      "Shape of Data: (60487, 7)\n"
     ]
    }
   ],
   "source": [
    "describe_and_info(casdms_df)"
   ],
   "metadata": {
    "collapsed": false,
    "ExecuteTime": {
     "start_time": "2023-08-31T17:50:20.332357Z",
     "end_time": "2023-08-31T17:50:20.388245Z"
    }
   }
  },
  {
   "cell_type": "code",
   "execution_count": null,
   "outputs": [],
   "source": [],
   "metadata": {
    "collapsed": false
   }
  }
 ],
 "metadata": {
  "kernelspec": {
   "display_name": "Python 3",
   "language": "python",
   "name": "python3"
  },
  "language_info": {
   "codemirror_mode": {
    "name": "ipython",
    "version": 2
   },
   "file_extension": ".py",
   "mimetype": "text/x-python",
   "name": "python",
   "nbconvert_exporter": "python",
   "pygments_lexer": "ipython2",
   "version": "2.7.6"
  }
 },
 "nbformat": 4,
 "nbformat_minor": 0
}
